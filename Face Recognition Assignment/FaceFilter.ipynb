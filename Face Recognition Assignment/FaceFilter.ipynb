{
 "cells": [
  {
   "cell_type": "code",
   "execution_count": 1,
   "metadata": {},
   "outputs": [],
   "source": [
    "import cv2\n",
    "import numpy as np\n",
    "import pandas as pd \n",
    "import matplotlib.pyplot as plt"
   ]
  },
  {
   "cell_type": "code",
   "execution_count": 2,
   "metadata": {},
   "outputs": [],
   "source": [
    "face_cascade = cv2.CascadeClassifier(\"haarcascade_frontalface_default.xml\")\n",
    "eye_cascade = cv2.CascadeClassifier(\"haarcascade_eye.xml\")\n",
    "nose_cascade = cv2.CascadeClassifier(\"haarcascade_mcs_nose.xml\")\n"
   ]
  },
  {
   "cell_type": "code",
   "execution_count": 9,
   "metadata": {},
   "outputs": [],
   "source": [
    "img = cv2.imread('./Test/Rohit.jpg')\n",
    "img=cv2.resize(img, (400, 400)) \n",
    "img_before=img\n",
    "mustache=cv2.imread('./Train/mustache.png',-1)\n",
    "glasses=cv2.imread('./Train/glasses.png',-1)"
   ]
  },
  {
   "cell_type": "code",
   "execution_count": 10,
   "metadata": {},
   "outputs": [],
   "source": [
    "gray = cv2.cvtColor(img, cv2.COLOR_BGR2GRAY)\n",
    "img= cv2.cvtColor(img,cv2.COLOR_BGR2BGRA)"
   ]
  },
  {
   "cell_type": "code",
   "execution_count": 11,
   "metadata": {},
   "outputs": [],
   "source": [
    "faces = face_cascade.detectMultiScale(gray, 1.3, 5)"
   ]
  },
  {
   "cell_type": "code",
   "execution_count": 12,
   "metadata": {},
   "outputs": [
    {
     "name": "stdout",
     "output_type": "stream",
     "text": [
      "[(20, 33, 25, 25), (69, 34, 22, 22)]\n",
      "71 23\n",
      "(46, 85, 4)\n"
     ]
    }
   ],
   "source": [
    "for (x,y,w,h) in faces:\n",
    "    roi_gray = gray[y:y+h, x:x+w]\n",
    "    roi_color = img[y:y+h, x:x+w]\n",
    "    #cv2.rectangle(img,(x,y),(x+w,y+h),(255,255,0),2)\n",
    "\n",
    "\n",
    "    eyes = eye_cascade.detectMultiScale(roi_gray,1.3,5)\n",
    "    el = []\n",
    "    for(ex,ey,ew,eh) in eyes:\n",
    "        #cv2.rectangle(roi_color,(ex, ey), (ex+ew, ey+eh),(0,255,0),3)\n",
    "        el.append((ex,ey,ew,eh))\n",
    "        roi_eyes = roi_gray[ey:ey+eh, ex:ex+w]\n",
    "\n",
    "    el = sorted(el , key = lambda a : a[0])\n",
    "    print(el)\n",
    "    ewf = el[1][0] + el[1][2] - el[0][0]\n",
    "    ehf = el[1][1] + el[1][3] - el[0][1]\n",
    "\n",
    "    print(ewf,ehf)\n",
    "    glasses2 = cv2.resize(glasses.copy(),(int(1.2*ewf),int(2*ehf)))\n",
    "    print(glasses2.shape)\n",
    "    gw, gh, gc = glasses2.shape\n",
    "    for i in range(0,gw):\n",
    "        for j in range(0,gh):\n",
    "            if glasses2[i,j][3] != 0:\n",
    "                roi_color[int((el[0][1]+el[1][1])/3)+i, int((h-gh)/2)+j] = glasses2[i, j]\n",
    "\n",
    "\n",
    "\n",
    "    nose = nose_cascade.detectMultiScale(roi_gray, scaleFactor=1.5, minNeighbors=5)\n",
    "    for (nx, ny, nw, nh) in nose:\n",
    "        #cv2.rectangle(roi_color, (nx, ny), (nx + nw, ny + nh), (255, 0, 0), 3)\n",
    "        roi_nose = roi_gray[ny: ny+nh, nx:nx+nw]\n",
    "        mustache2 = cv2.resize(mustache.copy(),(nw,int(0.5*ny)))\n",
    "\n",
    "        mw, mh, mc = mustache2.shape\n",
    "        for i in range(0,mw):\n",
    "            for j in range(0,mh):\n",
    "                if mustache2[i,j][3] != 0:\n",
    "                    roi_color[ny + int(nh/2) + i, nx+j] = mustache2[i,j]\n",
    "        \n",
    "        "
   ]
  },
  {
   "cell_type": "code",
   "execution_count": 13,
   "metadata": {},
   "outputs": [
    {
     "name": "stdout",
     "output_type": "stream",
     "text": [
      "[[255 255 255]\n",
      " [255 255 255]\n",
      " [255 255 255]\n",
      " ...\n",
      " [253 254 254]\n",
      " [254 255 253]\n",
      " [255 255 253]]\n"
     ]
    }
   ],
   "source": [
    "#Display resulting frame\n",
    "img = cv2.cvtColor(img, cv2.COLOR_BGRA2BGR)\n",
    "img = cv2.cvtColor(img, cv2.COLOR_BGR2RGB)\n",
    "\n",
    "img_before = cv2.cvtColor(img_before, cv2.COLOR_BGRA2BGR)\n",
    "img_before = cv2.cvtColor(img_before, cv2.COLOR_BGR2RGB)\n",
    "\n",
    "\n",
    "cv2.imshow('After',img)\n",
    "cv2.imshow('Before',img_before)\n",
    "\n",
    "\n",
    "\n",
    "img = np.reshape(img , (-1,3))\n",
    "print((img))\n",
    "\n",
    "\n",
    "cv2.waitKey(0)\n",
    "\n",
    "\n",
    "\n",
    "cv2.destroyAllWindows()"
   ]
  },
  {
   "cell_type": "code",
   "execution_count": null,
   "metadata": {},
   "outputs": [],
   "source": []
  }
 ],
 "metadata": {
  "kernelspec": {
   "display_name": "Python 3",
   "language": "python",
   "name": "python3"
  },
  "language_info": {
   "codemirror_mode": {
    "name": "ipython",
    "version": 3
   },
   "file_extension": ".py",
   "mimetype": "text/x-python",
   "name": "python",
   "nbconvert_exporter": "python",
   "pygments_lexer": "ipython3",
   "version": "3.8.3"
  }
 },
 "nbformat": 4,
 "nbformat_minor": 4
}
